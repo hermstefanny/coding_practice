{
 "cells": [
  {
   "cell_type": "code",
   "execution_count": 1,
   "id": "34063715",
   "metadata": {},
   "outputs": [],
   "source": [
    "import unittest"
   ]
  },
  {
   "cell_type": "code",
   "execution_count": null,
   "id": "c6fc20b2",
   "metadata": {},
   "outputs": [],
   "source": [
    "def is_even(n):\n",
    "    return True if n % 2 == 0 else False\n",
    "\n",
    "print(is_even(4))\n",
    "print(is_even(3))"
   ]
  },
  {
   "cell_type": "code",
   "execution_count": null,
   "id": "ad754e8d",
   "metadata": {},
   "outputs": [],
   "source": [
    "squares = [i**2 for i in range(1, 11)]\n",
    "print(squares)"
   ]
  },
  {
   "cell_type": "code",
   "execution_count": null,
   "id": "16e24929",
   "metadata": {},
   "outputs": [],
   "source": [
    "def reverse_string(s):\n",
    "    r = \"\"\n",
    "    for i in range(len(s) - 1, -1, -1):\n",
    "        r += s[i]\n",
    "    return r\n",
    "\n",
    "print(reverse_string(\"desire\"))"
   ]
  },
  {
   "cell_type": "code",
   "execution_count": null,
   "id": "12227d86",
   "metadata": {},
   "outputs": [],
   "source": [
    "def count_words(s):\n",
    "    words = s.split()\n",
    "    count = {}\n",
    "    for word in words:\n",
    "        count[word] = 1 + count.get(word, 0)\n",
    "    return count\n",
    "\n",
    "\n",
    "print(count_words(\"hello world hello\"))\n"
   ]
  },
  {
   "cell_type": "code",
   "execution_count": null,
   "id": "c0f96984",
   "metadata": {},
   "outputs": [],
   "source": [
    "def dividing(n, m):\n",
    "    try:\n",
    "        result = n / m\n",
    "    except ZeroDivisionError:\n",
    "        print(\"Division by zero not allowed\")\n",
    "    else:\n",
    "        print(f\"{result:.2f}\")\n",
    "\n",
    "\n",
    "dividing(7, 5)\n",
    "dividing(7, 0)"
   ]
  },
  {
   "cell_type": "code",
   "execution_count": null,
   "id": "059c7dce",
   "metadata": {},
   "outputs": [],
   "source": [
    "def find_largest(numbers):\n",
    "\n",
    "    return sorted(numbers)[-1]\n",
    "\n",
    "print(find_largest([1, 2, 3, 4, 5]))"
   ]
  },
  {
   "cell_type": "code",
   "execution_count": null,
   "id": "e92417f3",
   "metadata": {},
   "outputs": [],
   "source": [
    "def find_distinct_element_old(numbers):\n",
    "    count = {}\n",
    "    exceptions = []\n",
    "    for number in numbers:\n",
    "        count[number] = 1 + count.get(number, 0)\n",
    "\n",
    "    for key, value in count.items():\n",
    "        if value <= 1:\n",
    "            exceptions.append(key)\n",
    "\n",
    "    return exceptions"
   ]
  },
  {
   "cell_type": "code",
   "execution_count": null,
   "id": "62b66136",
   "metadata": {},
   "outputs": [],
   "source": [
    "def find_distinct_element(numbers):\n",
    "    exceptions = []\n",
    "    for number in numbers:\n",
    "        (\n",
    "            exceptions.append(number)\n",
    "            if number not in exceptions\n",
    "            else exceptions.remove(number)\n",
    "        )\n",
    "\n",
    "    return exceptions\n",
    "\n"
   ]
  },
  {
   "cell_type": "code",
   "execution_count": null,
   "id": "e4d76214",
   "metadata": {},
   "outputs": [],
   "source": [
    "\n",
    "print(find_distinct_element([24, 7, 5, 88, 96, 88, 5, 7, 24, 21]))  # [96, 21]\n",
    "print(\n",
    "    find_distinct_element([24, 7, 5, 88, 96, 96, 9, 11, 88, 5, 7, 24, 21, 21])\n",
    ")  # [9,11]\n",
    "print(find_distinct_element([24, 5, 88, 96, 96, 88, 5, 7, 21, 21]))  # [24,7])\n",
    "print(find_distinct_element([24, 88, 96, 96, 87, 24, 5, 7, 21, 21]))  # [88,87,5,7])\n",
    "print(find_distinct_element([24, 96, 96, 24, 21, 21]))  # [])\n",
    "print(find_distinct_element([24, 96, 21, 72, 98, 45]))\n",
    "print(find_distinct_element([]))"
   ]
  },
  {
   "cell_type": "code",
   "execution_count": null,
   "id": "eef870a6",
   "metadata": {},
   "outputs": [],
   "source": [
    "def count_leg(animals):\n",
    "    animals_legs = {\"ducks\": 2, \"sheep\": 4, \"pigs\": 4}\n",
    "    legs_total = 0\n",
    "    for animal, animal_count in animals.items():\n",
    "        if animal not in animals_legs:\n",
    "            print(\"Subspecies not accounted for. Total would not include these animals\")\n",
    "            continue\n",
    "        print(f\"{animal_count} {animal} each having {animals_legs[animal]} legs\")\n",
    "        print(\n",
    "            f\"There are {animal_count*animals_legs[animal]} legs in total for {animal}\\n\"\n",
    "        )\n",
    "        legs_total += animal_count * animals_legs[animal]\n",
    "\n",
    "    return legs_total\n",
    "\n",
    "\n",
    "print(count_leg({\"ducks\": 24, \"sheep\": 12, \"pigs\": 13}))\n",
    "# print(count_leg({\"ducks\": 0, \"sheep\": 0, \"pigs\": 0}))\n",
    "print(count_leg({\"dogs\": 2, \"sheep\": 12, \"pigs\": 13}))\n",
    "print(sorted([\"Vanessa\", \"Yassine\", \"Antoine'\"]))"
   ]
  },
  {
   "cell_type": "code",
   "execution_count": null,
   "id": "1b09af66",
   "metadata": {},
   "outputs": [],
   "source": [
    "def get_substring(string, index_start, lenght):\n",
    "    return string[index_start : index_start + lenght]\n",
    "\n",
    "\n",
    "print(get_substring(\"artificial intelligence\", 3, 5))"
   ]
  },
  {
   "cell_type": "code",
   "execution_count": null,
   "id": "f2179ffc",
   "metadata": {},
   "outputs": [],
   "source": [
    "i = 4\n",
    "while i > 0:\n",
    "    i -= 1\n",
    "    print(i)\n",
    "print(\"Go!\")\n"
   ]
  },
  {
   "cell_type": "code",
   "execution_count": null,
   "id": "f3edf96b",
   "metadata": {},
   "outputs": [],
   "source": [
    "with open(\"log.txt\", \"r\") as file:\n",
    "    content = file.readlines()\n",
    "\n",
    "for line in content:\n",
    "    if \"error\" in line.lower():\n",
    "        print(line)\n"
   ]
  },
  {
   "cell_type": "code",
   "execution_count": null,
   "id": "ba3352f3",
   "metadata": {},
   "outputs": [],
   "source": [
    "def room_size(area):\n",
    "    return \"big place!\" if area >= 15 else \"pretty small\"\n",
    "\n",
    "\n",
    "# Tests\n",
    "assert room_size(10) == \"pretty small\", \"Failed on area = 10\"\n",
    "assert room_size(14.9) == \"pretty small\", \"Failed on area = 14.9\"\n",
    "assert room_size(15) == \"big place!\", \"Failed on area = 15\"\n",
    "assert room_size(20) == \"big place!\", \"Failed on area = 20\"\n",
    "assert room_size(100) == \"big place!\", \"Failed on area = 100\"\n",
    "\n",
    "print(\"All tests passed.\")\n"
   ]
  }
 ],
 "metadata": {
  "kernelspec": {
   "display_name": "Python 3",
   "language": "python",
   "name": "python3"
  },
  "language_info": {
   "codemirror_mode": {
    "name": "ipython",
    "version": 3
   },
   "file_extension": ".py",
   "mimetype": "text/x-python",
   "name": "python",
   "nbconvert_exporter": "python",
   "pygments_lexer": "ipython3",
   "version": "3.10.4"
  }
 },
 "nbformat": 4,
 "nbformat_minor": 5
}
